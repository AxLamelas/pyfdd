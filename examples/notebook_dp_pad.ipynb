{
 "cells": [
  {
   "cell_type": "markdown",
   "metadata": {},
   "source": [
    "# Creating a DataPattern for the pad6 detector\n",
    "\n",
    "This notebook shows an example of how to create a DataPattern for a measurement with the pad6 detector.\n",
    "\n"
   ]
  },
  {
   "cell_type": "code",
   "execution_count": 1,
   "metadata": {},
   "outputs": [
    {
     "name": "stdout",
     "output_type": "stream",
     "text": [
      "PyFDD version 0.8.0\n"
     ]
    }
   ],
   "source": [
    "#import sys\n",
    "#sys.path.append(\"/home/eric/cernbox/PyCharm/PyFDD/\")\n",
    "import pyfdd\n",
    "print('PyFDD version', pyfdd.__version__)\n",
    "\n",
    "import matplotlib.pyplot as plt\n",
    "import numpy as np\n",
    "import pandas as pd\n",
    "import os\n",
    "\n",
    "from IPython.display import display\n",
    "\n",
    "pd.set_option('display.max_rows', 10000)\n",
    "pd.set_option('display.max_columns', 500)\n",
    "pd.set_option('display.max_colwidth', None)"
   ]
  },
  {
   "cell_type": "code",
   "execution_count": 2,
   "metadata": {},
   "outputs": [],
   "source": [
    "filename = \"../test_pyfdd/data_files/pad_dp_2M.txt\""
   ]
  },
  {
   "cell_type": "markdown",
   "metadata": {},
   "source": [
    "## Creating the DataPattern\n",
    "\n",
    "The arguments to create a data pattern are the path to the data matrix, the number of chips (2 for the time quad 1 for the others) and the real size of the central pixels.\n",
    "\n",
    "Two DataPattern can be added together."
   ]
  },
  {
   "cell_type": "code",
   "execution_count": 3,
   "metadata": {},
   "outputs": [],
   "source": [
    "dp1 = pyfdd.DataPattern(file_path=filename)\n",
    "dp2 = dp1*1.5\n",
    "dp = dp1 + dp2"
   ]
  },
  {
   "cell_type": "markdown",
   "metadata": {},
   "source": [
    "## Manipulation of the data pattern"
   ]
  },
  {
   "cell_type": "code",
   "execution_count": 4,
   "metadata": {},
   "outputs": [],
   "source": [
    "# Manipulation methods\n",
    "\n",
    "# Manipulation methods\n",
    "# -Orient\n",
    "dp.manip_orient('cw')  # PAD6 orientation\n",
    "# use 'cw','cc','mh',mv' for rotate clockwise, rotate counterclockwise, mirror horizontal and mirror vertical\n",
    "# in the desired order\n",
    "\n",
    "# Mask\n",
    "mask = np.zeros([22,22])\n",
    "mask[1,1] =\\\n",
    "mask[7,19]  = mask[8,18]  = mask[8,19] = mask[8,20] = mask[9,18] = mask[9,19]  = mask[9,20]   = mask[10,1] = \\\n",
    "mask[10,10] = mask[10,19] = mask[11,1] = mask[11,2] = mask[11,9] = mask[11,10] = mask[11,11]  = mask[12,1] = \\\n",
    "mask[12,10] = mask[19,1]  = mask[20,1] = 1\n",
    "dp.set_mask(mask)\n",
    "\n",
    "# -Angular calibration\n",
    "dp.manip_create_mesh(pixel_size=1.3, distance=315)\n",
    "\n",
    "# -Remove edge pixels\n",
    "dp.remove_edge_pixel(1)\n",
    "\n"
   ]
  },
  {
   "cell_type": "markdown",
   "metadata": {},
   "source": [
    "## Set the angular orientation for the pattern"
   ]
  },
  {
   "cell_type": "code",
   "execution_count": 5,
   "metadata": {
    "scrolled": false
   },
   "outputs": [
    {
     "data": {
      "image/png": "[encoded data removed]",
      "text/plain": [
       "<Figure size 432x288 with 2 Axes>"
      ]
     },
     "metadata": {
      "needs_background": "light"
     },
     "output_type": "display_data"
    }
   ],
   "source": [
    "%matplotlib inline\n",
    "fg = plt.figure()\n",
    "ax = fg.add_subplot(1,1,1)\n",
    "dp_plotter = dp.draw(ax, percentiles=(0.01, 0.99), plot_type='pixels')\n",
    "#dp_plotter.get_angle_tool()  # use with %matplotlib notebook"
   ]
  },
  {
   "cell_type": "code",
   "execution_count": 6,
   "metadata": {
    "scrolled": true
   },
   "outputs": [
    {
     "name": "stdout",
     "output_type": "stream",
     "text": [
      "angle widget, center  (0, 0) , angle  0\n"
     ]
    }
   ],
   "source": [
    "print('angle widget, center ', dp.center, ', angle ', dp.angle)\n",
    "# set_fit_region uses the angular values from the orientation \n",
    "# but these can also be set in the function input\n",
    "dp.set_fit_region(distance=2.8)"
   ]
  },
  {
   "cell_type": "markdown",
   "metadata": {},
   "source": [
    "## Save as json file"
   ]
  },
  {
   "cell_type": "code",
   "execution_count": 7,
   "metadata": {},
   "outputs": [],
   "source": [
    "dp.io_save_json('pad_datapattern.json')"
   ]
  }
 ],
 "metadata": {
  "kernelspec": {
   "display_name": "Python 3",
   "language": "python",
   "name": "python3"
  },
  "language_info": {
   "codemirror_mode": {
    "name": "ipython",
    "version": 3
   },
   "file_extension": ".py",
   "mimetype": "text/x-python",
   "name": "python",
   "nbconvert_exporter": "python",
   "pygments_lexer": "ipython3",
   "version": "3.6.9"
  }
 },
 "nbformat": 4,
 "nbformat_minor": 1
}
